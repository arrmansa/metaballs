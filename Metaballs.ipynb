{
 "cells": [
  {
   "cell_type": "code",
   "execution_count": 1,
   "id": "48012c8c",
   "metadata": {},
   "outputs": [],
   "source": [
    "import matplotlib.pyplot as plt\n",
    "import numpy as np\n",
    "from IPython.display import clear_output"
   ]
  },
  {
   "cell_type": "code",
   "execution_count": 2,
   "id": "2d120001",
   "metadata": {},
   "outputs": [],
   "source": [
    "#Initial\n",
    "grid = np.zeros((400,400),np.float32)"
   ]
  },
  {
   "cell_type": "code",
   "execution_count": 3,
   "id": "9c9c42ac",
   "metadata": {},
   "outputs": [],
   "source": [
    "balls = [{\"position\":[100,100], \"radius\":80}, {\"position\":[300,100], \"radius\":80}]"
   ]
  },
  {
   "cell_type": "code",
   "execution_count": 4,
   "id": "b8d1b8d1",
   "metadata": {},
   "outputs": [],
   "source": [
    "def update_grid(ball):\n",
    "    global grid\n",
    "    i = np.arange(grid.shape[0]).reshape((grid.shape[0],1)) - ball[\"position\"][0]\n",
    "    j = np.arange(grid.shape[1]).reshape((1,grid.shape[1])) - ball[\"position\"][1]\n",
    "    grid += (1 + ball[\"radius\"]**2)/(1 + (i**2 + j**2))\n",
    "\n",
    "def update_ball(ball):\n",
    "    if ball[\"position\"][1] > 250:\n",
    "        ball[\"position\"][0] -= 10\n",
    "        return ball\n",
    "    if ball[\"position\"][0] > 200:\n",
    "        ball[\"position\"][1] += 10\n",
    "        return ball"
   ]
  },
  {
   "cell_type": "code",
   "execution_count": 5,
   "id": "9615fb1b",
   "metadata": {},
   "outputs": [
    {
     "data": {
      "image/png": "[encoded data removed]",
      "text/plain": [
       "<Figure size 432x288 with 1 Axes>"
      ]
     },
     "metadata": {
      "needs_background": "light"
     },
     "output_type": "display_data"
    }
   ],
   "source": [
    "for i in range(35): #number of frames\n",
    "    #zero grid\n",
    "    grid[:] = 0\n",
    "    \n",
    "    for ball in balls:\n",
    "        update_grid(ball) #update grid\n",
    "        ball = update_ball(ball) #update balls\n",
    "        \n",
    "    #Show binary grid\n",
    "    plt.imshow(grid>1.0)\n",
    "    plt.show()\n",
    "    clear_output(wait = True)"
   ]
  }
 ],
 "metadata": {
  "kernelspec": {
   "display_name": "Python 3 (ipykernel)",
   "language": "python",
   "name": "python3"
  },
  "language_info": {
   "codemirror_mode": {
    "name": "ipython",
    "version": 3
   },
   "file_extension": ".py",
   "mimetype": "text/x-python",
   "name": "python",
   "nbconvert_exporter": "python",
   "pygments_lexer": "ipython3",
   "version": "3.7.10"
  }
 },
 "nbformat": 4,
 "nbformat_minor": 5
}
